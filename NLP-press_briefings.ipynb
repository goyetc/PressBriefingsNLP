{
 "cells": [
  {
   "cell_type": "code",
   "execution_count": null,
   "metadata": {
    "collapsed": true
   },
   "outputs": [],
   "source": [
    "#Bush press briefing analysis script, using compiled Jan-March 2001 press briefings (see Extract_text.. file)"
   ]
  },
  {
   "cell_type": "code",
   "execution_count": 6,
   "metadata": {
    "collapsed": true
   },
   "outputs": [],
   "source": [
    "import nltk\n",
    "\n",
    "#Note: did not end up needing textblob, pattern library uses same sentiment classifier\n",
    "\n",
    "from textblob import *\n",
    "from textblob.sentiments import NaiveBayesAnalyzer\n",
    "\n",
    "import re\n",
    "import csv\n",
    "\n",
    "#pattern library.. simple NLP tools based on product reviews\n",
    "from pattern.en import parse, Sentence, parse\n",
    "from pattern.en import modality\n",
    "from pattern.en import mood\n",
    "from pattern.en import sentiment\n",
    "from pattern.en import positive\n",
    "\n",
    "#for grade-level score, sentence complexity\n",
    "from textstat.textstat import textstat"
   ]
  },
  {
   "cell_type": "code",
   "execution_count": 2,
   "metadata": {
    "collapsed": false
   },
   "outputs": [],
   "source": [
    "#NLTK sentence parsing\n",
    "#Note: nltk sentence parser seems to look for \". \".. does not parse on other interruptions like \"--\"\n",
    "\n",
    "f = open('EDAVtest_compiled.txt')\n",
    "raw = f.read()\n",
    "sents = nltk.sent_tokenize(raw)\n",
    "#print sents_bush"
   ]
  },
  {
   "cell_type": "code",
   "execution_count": 3,
   "metadata": {
    "collapsed": false
   },
   "outputs": [
    {
     "name": "stdout",
     "output_type": "stream",
     "text": [
      "FLEISCHER: Thanks for spending your early afternoon with me. True indicative 0.75 0.15 0.25\n",
      "MR. FLEISCHER: I think what is most important is to protect the\n",
      "economy. True indicative 0.65 0.45 0.75\n",
      "I thought he was saying there was room --\n",
      "MR. FLEISCHER: He is talking about in the soft economy --\n",
      "Q  He was saying there was room in the surplus for cutting\n",
      "taxes. False indicative 0.678571428571 -0.25 0.625\n",
      "MR. FLEISCHER: But he also talked about an economic softness. True indicative 0.75 0.2 0.2\n",
      "MR. FLEISCHER: I think he referred to the fact that in a time of\n",
      "economic softness, tax cuts could be helpful. True conditional 0.21875 0.2 0.2\n",
      "Q  But isn't the opposite true, didn't he make the opposite\n",
      "--\n",
      "MR. FLEISCHER: I saw that, actually, in an AP wire story. False indicative 0.75 0.0875 0.1875\n",
      "MR. FLEISCHER: He also said -- and again, there are a series of\n",
      "reasons -- let me repeat the three reasons President Bush believes we\n",
      "should cut taxes --\n",
      "Q  But can you skip to this issue --\n",
      "MR. FLEISCHER: I will. False conditional 0.519230769231 0.0 0.0\n",
      "MR. FLEISCHER: We've talked about this before. False indicative 0.75 0.0 0.0\n",
      "MR. FLEISCHER: I think there's plenty of room for agreement\n",
      "among economists or slight disagreement among economists about the\n",
      "speed at\n",
      "which a tax cut can help the economy. False indicative 0.25 -0.166666666667 0.166666666667\n",
      "MR. FLEISCHER: On the question of a trigger, President Bush\n",
      "believes what's important is to enact the tax cut. True indicative 0.5 0.4 1.0\n",
      "I mean,\n",
      "isn't that Greenspan's fear, that you're going to pass --\n",
      "MR. FLEISCHER: Congress has nothing but a history of undoing tax\n",
      "cuts once they're in there. False indicative 0.75 -0.3125 0.6875\n",
      "MR. FLEISCHER: We're still looking at the exact speed at which\n",
      "it will be phased in and the exact dates at which it will be phased in,\n",
      "the\n",
      "rates, et cetera, and the question of retroactivity; we're still\n",
      "looking at\n",
      "it. True conditional 0.692307692308 0.25 0.25\n",
      "MR. FLEISCHER: No, we're still looking at that. False indicative 0.75 0.0 0.0\n",
      "When the Federal Reserve\n",
      "announced\n",
      "the rate hike a while ago, the President commented --\n",
      "MR. FLEISCHER: Rate cut. False indicative 0.75 0.0 0.0\n",
      "I'm wondering -- you\n",
      "view the\n",
      "Federal Reserve as an independent body -- do you not feel that you\n",
      "should\n",
      "not comment even on comments that the Federal Reserve Chairman makes on\n",
      "tax\n",
      "cuts or any type of --\n",
      "MR. FLEISCHER: No. False conditional 0.461538461538 0.0 0.125\n",
      "MR. FLEISCHER: We'll keep you advised on the exact date. True conditional 0.75 0.25 0.25\n",
      "MR. FLEISCHER: I always like to leave a little flexibility in\n",
      "terms of the exact dates or weeks of an announcement, but it's coming\n",
      "up. False indicative 0.916666666667 0.03125 0.375\n",
      "MR. FLEISCHER: Well, I can't help but notice this funny new\n",
      "standard that is trying to emerge from those who have historically been\n",
      "resistant to tax cuts, and that is for the first time they're attaching\n",
      "the\n",
      "cost of interest expenses to the proposal without analyzing it as part\n",
      "of\n",
      "interest costs as opposed to tax cuts. True indicative 0.15 0.127272727273 0.357575757576\n",
      "MR. FLEISCHER: In the President's tax plan, he addresses the\n",
      "complication created by the alternative minimum tax on the tax credit\n",
      "provisions that are part of his legislation. False indicative 0.75 0.0 0.0\n"
     ]
    }
   ],
   "source": [
    "#test nlp metrics.. sentence, if_positive_sent, mood (aka sentence type), modality (aka certainty), polarity, subjectivity\n",
    "#Note: TextBlob sentiment analysis, in this package, is based on pattern library, see link\n",
    "#http://www.clips.ua.ac.be/pages/pattern-en#sentiment\n",
    "\n",
    "for i in sents[:100]:\n",
    "    if \"FLEISCHER:\" in i:\n",
    "        print i, positive(i, threshold = 0.1), mood(i), modality(i), sentiment(i)[0], sentiment(i)[1]"
   ]
  },
  {
   "cell_type": "code",
   "execution_count": 9,
   "metadata": {
    "collapsed": false
   },
   "outputs": [],
   "source": [
    "#tagging nltk-produced \"sentences\" by speaker.. there were some cases where there were interjections.\n",
    "#in the cases where a single \"sentence\" was really a single statement made up of multiple sentences split by \"--\", I chose to tag as being by the spokesperson.\n",
    "#a subsequent script would parse by those \"--\" markers first, in conjunction with \"Q \" or \"[SPOKESPERSON NAME]:\", then break those statements up into individual sentences\n",
    "\n",
    "#metrics:\n",
    "\n",
    "    #text-based/known:\n",
    "        #administration - aka \"Trump\", \"Obama\", or \"Bush\"\n",
    "        #sentence/string\n",
    "        #person: \"spokesperson\" or \"press_corps\"\n",
    "        \n",
    "    #from pattern library: http://www.clips.ua.ac.be/pages/pattern-en#sentiment\n",
    "        #mood(string) - The mood() function returns either INDICATIVE, IMPERATIVE, CONDITIONAL or SUBJUNCTIVE for a given parsed Sentence. See the table below for an overview of moods.\n",
    "        #modality(string) - The modality() function returns the degree of certainty as a value between -1.0 and +1.0, where values > +0.5 represent facts. For example, \"I wish it would stop raining\" scores -0.35, whereas \"It will stop raining\" scores +0.75. Accuracy is about 68% for Wikipedia texts.\n",
    "        #sentiment: polarity & subjectivity, in that order\n",
    "   \n",
    "    #from textstat: \n",
    "        #flesch-kincaid grade level, based on flesch-kincaid grade formula\n",
    "\n",
    "#create simple variable in anticipation of merging multiple tables in R, for visualization purposes\n",
    "admin = \"Bush\"\n",
    "\n",
    "with open('EDAVtest_tagged.csv', 'wb') as file:\n",
    "    writer = csv.writer(file)\n",
    "\n",
    "    #cleaning.. in some cases a Q marking a press corp question had no space btw it and the question. \n",
    "    #\"LGBTQ\" also screwed up the subsequent logic used to identify press corp questions based on \"Q \" tags\n",
    "    #Hence, change LGBTQ to LGBT\n",
    "    \n",
    "    for string in sents:\n",
    "        string = re.sub(r'(Q+)([A-Z])', r'\\1 \\2', string)\n",
    "        string = string.replace('MR.', '').replace('\\r', '').replace('\\n', ' ').replace('LGBTQ', 'LGBT')\n",
    "       \n",
    "    #tag speaker\n",
    "    \n",
    "        if \"FLEISCHER:\" in string:\n",
    "            \n",
    "            string = string.replace('FLEISCHER:','').lstrip()\n",
    "            person = \"Spokesperson\"\n",
    "            row = admin, string, person, positive(string, threshold = 0.1), mood(string), modality(string), sentiment(string)[0], sentiment(string)[1], textstat.flesch_kincaid_grade(string)\n",
    "            #print person, [string]\n",
    "            writer.writerow(row)\n",
    "\n",
    "        elif (\"Q \" or \"Q--\" or \"Q  \") in string:\n",
    "        \n",
    "            string = string.replace('Q ', '').replace('Q--', '').replace('Q  ', '').lstrip()\n",
    "            person = \"Press_Corps\"\n",
    "            row = admin, string, person, positive(string, threshold = 0.1), mood(string), modality(string), sentiment(string)[0], sentiment(string)[1], textstat.flesch_kincaid_grade(string)\n",
    "            #print person, [string]\n",
    "            writer.writerow(row)\n",
    "            \n",
    "    #if no tag, continue with existing until next found\n",
    "    \n",
    "        else:\n",
    "            if len(string) != 0:\n",
    "                string = string.lstrip()\n",
    "                row = admin, string, person, positive(string, threshold = 0.1), mood(string), modality(string), sentiment(string)[0], sentiment(string)[1], textstat.flesch_kincaid_grade(string)\n",
    "                #print person, [string]\n",
    "                writer.writerow(row)\n",
    "            else:\n",
    "                continue\n",
    "            \n",
    "     "
   ]
  },
  {
   "cell_type": "code",
   "execution_count": 7,
   "metadata": {
    "collapsed": false
   },
   "outputs": [],
   "source": [
    "#original textblob sentiment analysis.. had not broken out by speaker at this point\n",
    "\n",
    "speaker = ' '.join(sents)\n",
    "test = TextBlob(speaker)\n",
    "\n",
    "with open('EDAVtest_sentiment.csv', \"wb\") as file:\n",
    "    writer = csv.writer(file)\n",
    "    for sentence in test.sentences:\n",
    "        row = sentence, sentence.sentiment.polarity, sentence.sentiment.subjectivity\n",
    "        writer.writerow(row)\n",
    "    \n",
    "#for sentence in test.sentences[0:10]:\n",
    "    #print sentence, sentence.sentiment.polarity, sentence.sentiment.subjectivity\n",
    "    \n"
   ]
  },
  {
   "cell_type": "code",
   "execution_count": 8,
   "metadata": {
    "collapsed": false
   },
   "outputs": [
    {
     "name": "stdout",
     "output_type": "stream",
     "text": [
      "TRUE\n",
      "TRUE\n",
      "TRUE\n",
      "TRUE\n",
      "TRUE\n",
      "TRUE\n",
      "TRUE\n",
      "TRUE\n",
      "TRUE\n",
      "TRUE\n",
      "TRUE\n",
      "TRUE\n",
      "TRUE\n",
      "TRUE\n",
      "TRUE\n",
      "TRUE\n",
      "TRUE\n",
      "TRUE\n",
      "TRUE\n"
     ]
    }
   ],
   "source": [
    "#verify textblob and pattern library produce same sentiment results.. \n",
    "#had initially used textblob but pattern library came in handy for addt'l features\n",
    "\n",
    "for i in sents[:100]:\n",
    "    if \"FLEISCHER:\" in i:\n",
    "        blob = TextBlob(i)\n",
    "        if (blob.sentiment.polarity == sentiment(i)[0]) & (blob.sentiment.subjectivity == sentiment(i)[1]):\n",
    "            print \"TRUE\""
   ]
  },
  {
   "cell_type": "code",
   "execution_count": null,
   "metadata": {
    "collapsed": true
   },
   "outputs": [],
   "source": [
    "#textblob demo, from website\n",
    "\n",
    "from textblob import TextBlob\n",
    ">>> from textblob.sentiments import NaiveBayesAnalyzer\n",
    ">>> blob = TextBlob(\"I love this library\", analyzer=NaiveBayesAnalyzer())\n",
    ">>> blob.sentiment\n",
    "Sentiment(classification='pos', p_pos=0.7996209910191279, p_neg=0.2003790089808724)"
   ]
  }
 ],
 "metadata": {
  "anaconda-cloud": {},
  "kernelspec": {
   "display_name": "Python [Root]",
   "language": "python",
   "name": "Python [Root]"
  },
  "language_info": {
   "codemirror_mode": {
    "name": "ipython",
    "version": 2
   },
   "file_extension": ".py",
   "mimetype": "text/x-python",
   "name": "python",
   "nbconvert_exporter": "python",
   "pygments_lexer": "ipython2",
   "version": "2.7.12"
  }
 },
 "nbformat": 4,
 "nbformat_minor": 0
}
