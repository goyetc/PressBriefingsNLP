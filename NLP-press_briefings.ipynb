{
 "cells": [
  {
   "cell_type": "code",
   "execution_count": null,
   "metadata": {
    "collapsed": true
   },
   "outputs": [],
   "source": [
    "#Bush press briefing analysis, Jan-March 2001"
   ]
  },
  {
   "cell_type": "code",
   "execution_count": 2,
   "metadata": {
    "collapsed": true
   },
   "outputs": [],
   "source": [
    "import nltk\n",
    "\n",
    "#did not end up needing textblob, pattern library uses same sentiment classifier\n",
    "#from textblob import *\n",
    "#from textblob.sentiments import NaiveBayesAnalyzer\n",
    "\n",
    "import re\n",
    "import csv\n",
    "\n",
    "#pattern library.. simple NLP tools based on product reviews\n",
    "from pattern.en import parse, Sentence, parse\n",
    "from pattern.en import modality\n",
    "from pattern.en import mood\n",
    "from pattern.en import sentiment\n",
    "from pattern.en import positive\n",
    "\n",
    "#for grade-level score, sentence complexity\n",
    "from textstat.textstat import textstat"
   ]
  },
  {
   "cell_type": "code",
   "execution_count": 3,
   "metadata": {
    "collapsed": false
   },
   "outputs": [],
   "source": [
    "#first 30 press briefings in text file, parsed into sentences using nltk.\n",
    "#Note: nltk sentence parser seems to look for \". \".. does not parse on other interruptions like \"--\"\n",
    "\n",
    "f = open('Bush_compiled.txt')\n",
    "raw = f.read()\n",
    "sents = nltk.sent_tokenize(raw)\n",
    "#print sents_bush"
   ]
  },
  {
   "cell_type": "code",
   "execution_count": null,
   "metadata": {
    "collapsed": false
   },
   "outputs": [],
   "source": [
    "#test nlp metrics.. sentence, if_positive_sent, mood (aka sentence type), modality (aka certainty), polarity, subjectivity\n",
    "#Note: TextBlob sentiment analysis, in this package, is based on pattern library, see link\n",
    "#http://www.clips.ua.ac.be/pages/pattern-en#sentiment\n",
    "\n",
    "for i in sents[:100]:\n",
    "    if \"FLEISCHER:\" in i:\n",
    "        print i, positive(i, threshold = 0.1), mood(i), modality(i), sentiment(i)[0], sentiment(i)[1]"
   ]
  },
  {
   "cell_type": "code",
   "execution_count": 4,
   "metadata": {
    "collapsed": false
   },
   "outputs": [],
   "source": [
    "#tagging nltk-produced \"sentences\" by speaker.. note that there were some cases where there were interjections.\n",
    "#in the cases where a single \"sentence\" was really a single statement made up of multiple sentences split by \"--\", I chose to tag as being by the spokesperson.\n",
    "#a subsequent script would parse by those \"--\" markers first, in conjunction with \"Q \" or \"[SPOKESPERSON NAME]:\", then break those statements up into individual sentences\n",
    "\n",
    "#metrics:\n",
    "\n",
    "    #text-based/known:\n",
    "        #administration - aka \"Trump\", \"Obama\", or \"Bush\"\n",
    "        #sentence/string\n",
    "        #person: \"spokesperson\" or \"press_corps\"\n",
    "        \n",
    "    #from pattern library: http://www.clips.ua.ac.be/pages/pattern-en#sentiment\n",
    "        #mood(string) - The mood() function returns either INDICATIVE, IMPERATIVE, CONDITIONAL or SUBJUNCTIVE for a given parsed Sentence. See the table below for an overview of moods.\n",
    "        #modality(string) - The modality() function returns the degree of certainty as a value between -1.0 and +1.0, where values > +0.5 represent facts. For example, \"I wish it would stop raining\" scores -0.35, whereas \"It will stop raining\" scores +0.75. Accuracy is about 68% for Wikipedia texts.\n",
    "        #sentiment: polarity & subjectivity, in that order\n",
    "   \n",
    "    #from textstat: \n",
    "        #flesch-kincaid grade level, based on flesch-kincaid grade formula\n",
    "\n",
    "admin = \"Bush\"\n",
    "person = []\n",
    "\n",
    "with open('bush_tagged.csv', 'wb') as file:\n",
    "    writer = csv.writer(file)\n",
    "\n",
    "    #cleaning.. in some cases a Q marking a press corp question had no space btw it and the question. LGBTQ also screwed up the subsequent if statement logic\n",
    "    for string in sents:\n",
    "        string = re.sub(r'(Q+)([A-Z])', r'\\1 \\2', string)\n",
    "        string = string.replace('MR.', '').replace('\\r', '').replace('\\n', ' ').replace('LGBTQ', 'LGBT')\n",
    "       \n",
    "    #tag speaker\n",
    "    \n",
    "        if \"FLEISCHER:\" in string:\n",
    "            \n",
    "            string = string.replace('FLEISCHER:','').lstrip()\n",
    "            person = \"Spokesperson\"\n",
    "            row = admin, string, person, positive(string, threshold = 0.1), mood(string), modality(string), sentiment(string)[0], sentiment(string)[1], textstat.flesch_kincaid_grade(string)\n",
    "            #print person, [string]\n",
    "            writer.writerow(row)\n",
    "\n",
    "        elif (\"Q \" or \"Q--\" or \"Q  \") in string:\n",
    "        \n",
    "            string = string.replace('Q ', '').replace('Q--', '').replace('Q  ', '').lstrip()\n",
    "            person = \"Press_Corps\"\n",
    "            row = admin, string, person, positive(string, threshold = 0.1), mood(string), modality(string), sentiment(string)[0], sentiment(string)[1], textstat.flesch_kincaid_grade(string)\n",
    "            #print person, [string]\n",
    "            writer.writerow(row)\n",
    "            \n",
    "    #if no tag, continue with existing until next found\n",
    "    \n",
    "        else:\n",
    "            if len(string) != 0:\n",
    "                string = string.lstrip()\n",
    "                row = admin, string, person, positive(string, threshold = 0.1), mood(string), modality(string), sentiment(string)[0], sentiment(string)[1], textstat.flesch_kincaid_grade(string)\n",
    "                #print person, [string]\n",
    "                writer.writerow(row)\n",
    "            else:\n",
    "                continue\n",
    "            \n",
    "     "
   ]
  },
  {
   "cell_type": "code",
   "execution_count": null,
   "metadata": {
    "collapsed": false
   },
   "outputs": [],
   "source": [
    "#verify textblob and pattern library produce same sentiment results.. \n",
    "#had initially used textblob but pattern library came in handy for addt'l features\n",
    "\n",
    "for i in newstring_speaker[:100]:\n",
    "    if \"FLEISCHER:\" in i:\n",
    "        blob = TextBlob(i)\n",
    "        if (blob.sentiment.polarity == sentiment(i)[0]) & (blob.sentiment.subjectivity == sentiment(i)[1]):\n",
    "            print \"TRUE\""
   ]
  },
  {
   "cell_type": "code",
   "execution_count": 19,
   "metadata": {
    "collapsed": false
   },
   "outputs": [],
   "source": [
    "#original textblob sentiment analysis.. had not broken out by speaker at this point\n",
    "\n",
    "speaker = ' '.join(newstring_speaker)\n",
    "test = TextBlob(speaker)\n",
    "\n",
    "with open('Bush_sentiment.csv', \"wb\") as file:\n",
    "    writer = csv.writer(file)\n",
    "    for sentence in test.sentences:\n",
    "        row = sentence, sentence.sentiment.polarity, sentence.sentiment.subjectivity\n",
    "        writer.writerow(row)\n",
    "    \n",
    "#for sentence in test.sentences[0:10]:\n",
    "    #print sentence, sentence.sentiment.polarity, sentence.sentiment.subjectivity\n",
    "    \n"
   ]
  },
  {
   "cell_type": "code",
   "execution_count": null,
   "metadata": {
    "collapsed": true
   },
   "outputs": [],
   "source": [
    "#textblob demo, from website\n",
    "\n",
    "from textblob import TextBlob\n",
    ">>> from textblob.sentiments import NaiveBayesAnalyzer\n",
    ">>> blob = TextBlob(\"I love this library\", analyzer=NaiveBayesAnalyzer())\n",
    ">>> blob.sentiment\n",
    "Sentiment(classification='pos', p_pos=0.7996209910191279, p_neg=0.2003790089808724)"
   ]
  },
  {
   "cell_type": "code",
   "execution_count": 25,
   "metadata": {
    "collapsed": false
   },
   "outputs": [],
   "source": [
    "#another example\n",
    "\n",
    "import csv\n",
    "Bush = ' '.join(newstring_bush)\n",
    "blob1 = TextBlob(Bush, analyzer = NaiveBayesAnalyzer())\n",
    "\n",
    "with open('Bush_sent_nb.csv', \"wb\") as file:\n",
    "    writer = csv.writer(file)\n",
    "    for sentence in test.sentences:\n",
    "        row = sentence, sentence.sentiment.polarity, sentence.sentiment.subjectivity\n",
    "        writer.writerow(row)"
   ]
  }
 ],
 "metadata": {
  "anaconda-cloud": {},
  "kernelspec": {
   "display_name": "Python [conda root]",
   "language": "python",
   "name": "conda-root-py"
  },
  "language_info": {
   "codemirror_mode": {
    "name": "ipython",
    "version": 2
   },
   "file_extension": ".py",
   "mimetype": "text/x-python",
   "name": "python",
   "nbconvert_exporter": "python",
   "pygments_lexer": "ipython2",
   "version": "2.7.12"
  }
 },
 "nbformat": 4,
 "nbformat_minor": 0
}
